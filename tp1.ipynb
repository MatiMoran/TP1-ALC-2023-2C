{
 "cells": [
  {
   "cell_type": "markdown",
   "metadata": {},
   "source": [
    "Empezamos importando librerias"
   ]
  },
  {
   "cell_type": "code",
   "execution_count": 67,
   "metadata": {},
   "outputs": [],
   "source": [
    "import numpy as np\n",
    "import scipy as sp"
   ]
  },
  {
   "cell_type": "markdown",
   "metadata": {},
   "source": []
  },
  {
   "cell_type": "code",
   "execution_count": 68,
   "metadata": {},
   "outputs": [],
   "source": [
    "def descompLU_recursive(A):\n",
    "    #get dimensions of A\n",
    "    n = A.shape[0]\n",
    "\n",
    "    u_11 = A[0,0]\n",
    "    if (u_11 == 0): # whe cannot pivot anymore, the A matrix cannot be descomposed\n",
    "        return (None, None)\n",
    "\n",
    "    if (n == 1):\n",
    "        return (np.array([[1]]), np.array([[u_11]]))\n",
    "    \n",
    "\n",
    "    u_12 = A[0, 1:]\n",
    "\n",
    "    l_21 = A[1:, 0] / u_11\n",
    "\n",
    "    recursive_A_matrix_to_solve = A[1:, 1:] - l_21.reshape(n - 1,1) * u_12\n",
    "\n",
    "    l_22, u_22 = descompLU_recursive(recursive_A_matrix_to_solve)\n",
    "    if (l_22 is None or u_22 is None): # returns canonical and original A\n",
    "        return (None, None)\n",
    "    \n",
    "\n",
    "    l_top_row = np.array([1] + [0] * (n - 1))\n",
    "    #create a new matrix using the l_22 matrix with dimensions of (n - 1, n - 1) and the l_21 matrix with dimensions of (n - 1, 1)\n",
    "    l = np.hstack((np.expand_dims(l_21, axis=1), l_22))\n",
    "    l = np.vstack((l_top_row, l))\n",
    "\n",
    "    #create a new matrix using the l matrix with dimensions of (n - 1, n) and the l_top_row matrix with dimensions of (1, n)\n",
    "    u_left_row = np.array([u_11] + [0] * (n - 1))\n",
    "    #create a new matrix using the u_22 matrix with dimensions of (n - 1, n - 1) and the u_12 matrix with dimensions of (1, n - 1)\n",
    "    u = np.vstack((u_12, u_22))\n",
    "    #create a new matrix using the u matrix with dimensions of (n, n - 1) and the u_left_row matrix with dimensions of (n, 1)\n",
    "    u = np.hstack((np.expand_dims(u_left_row, axis=1), u))\n",
    "\n",
    "    return (l, u)\n",
    "\n",
    "def descompLU(A):\n",
    "    l, u = descompLU_recursive(A)\n",
    "    if (l is None or u is None): # returns canonical and original A\n",
    "        return (np.eye(A.shape[0]), A)\n",
    "    return (l, u)\n"
   ]
  },
  {
   "cell_type": "markdown",
   "metadata": {},
   "source": []
  },
  {
   "cell_type": "code",
   "execution_count": 69,
   "metadata": {},
   "outputs": [
    {
     "name": "stdout",
     "output_type": "stream",
     "text": [
      "OK\n",
      "OK\n",
      "OK\n",
      "OK\n",
      "OK\n",
      "OK\n"
     ]
    }
   ],
   "source": [
    "A0 = np.array([[1, 2, 3], [4, 5, 6], [7, 8, 10]])\n",
    "A1 = np.array([[ 4,3],[-5,9]])\n",
    "A2 = np.array([[4, 3, 2], [-2, 2, 3], [3, -5, 2]])\n",
    "A3 = np.array([[20, 10], [17, 22]])\n",
    "A4 = np.array([[8, 3, -2], [-4, 7, 5], [3, 4, -12]])\n",
    "A5 = np.array([[4, 3, -5], [-2, -4, 5], [8, 8, 0]])\n",
    "\n",
    "def test_descompLU(test_suite):\n",
    "    for test_case in test_suite:\n",
    "        L1,U1 = descompLU(test_case)\n",
    "        if (np.allclose(test_case, L1@U1)):\n",
    "            print(\"OK\")\n",
    "        else:\n",
    "            print(\"ERROR\")\n",
    "            print(L1)\n",
    "            print(U1)\n",
    "\n",
    "A_test_suite = [A0,A1,A2,A3,A4,A5]\n",
    "test_descompLU(A_test_suite)"
   ]
  },
  {
   "cell_type": "markdown",
   "metadata": {},
   "source": []
  },
  {
   "cell_type": "code",
   "execution_count": 70,
   "metadata": {},
   "outputs": [],
   "source": [
    "def resolverLU(A, b):\n",
    "    l, u = descompLU(A)\n",
    "    x = sp.linalg.solve_triangular(l, b, lower=True)\n",
    "    return sp.linalg.solve_triangular(u, x)"
   ]
  },
  {
   "cell_type": "markdown",
   "metadata": {},
   "source": []
  },
  {
   "cell_type": "code",
   "execution_count": 71,
   "metadata": {},
   "outputs": [
    {
     "name": "stdout",
     "output_type": "stream",
     "text": [
      "OK\n",
      "OK\n",
      "OK\n",
      "OK\n",
      "OK\n"
     ]
    }
   ],
   "source": [
    "A = np.array([[ 4,3],[-5,9]])\n",
    "b = np.array([20,26])\n",
    "A2 = np.array([[4, 3, 2], [-2, 2, 3], [3, -5, 2]])\n",
    "b2 = np.array([25, -10, -4])\n",
    "A3 = np.array([[20, 10], [17, 22]])\n",
    "b3 = np.array([350, 500])\n",
    "A4 = np.array([[8, 3, -2], [-4, 7, 5], [3, 4, -12]])\n",
    "b4 = np.array([9, 15, 35])\n",
    "A5 = np.array([[4, 3, -5], [-2, -4, 5], [8, 8, 0]])\n",
    "b5 = np.array([2, 5, -3])\n",
    "\n",
    "def testresolverLU(A_test_suite, b_test_suite):\n",
    "    for (A_test_case, b_test_case) in zip(A_test_suite, b_test_suite):\n",
    "        solucion = resolverLU(A_test_case,b_test_case)\n",
    "        solucion_posta = np.linalg.solve(A_test_case,b_test_case)\n",
    "        if (np.allclose(solucion, solucion_posta)):\n",
    "            print(\"OK\")\n",
    "        else:\n",
    "            print(\"ERROR\")\n",
    "            print(solucion)\n",
    "            print(solucion_posta)\n",
    "\n",
    "A_test_suite = [A,A2,A3,A4,A5]\n",
    "b_test_suite = [b,b2,b3,b4,b5]\n",
    "testresolverLU(A_test_suite,b_test_suite)"
   ]
  },
  {
   "cell_type": "markdown",
   "metadata": {},
   "source": []
  },
  {
   "cell_type": "code",
   "execution_count": 72,
   "metadata": {},
   "outputs": [],
   "source": [
    "def inversa(A):\n",
    "    dimension = A.shape[0]\n",
    "    canonical_matrix = np.eye(dimension)\n",
    "    ret = np.zeros((dimension, dimension))\n",
    "\n",
    "    for i in range(dimension):\n",
    "        inverse_canonical_row = resolverLU(A, canonical_matrix[i])\n",
    "        ret[:, i] = inverse_canonical_row\n",
    "\n",
    "    return ret"
   ]
  },
  {
   "cell_type": "markdown",
   "metadata": {},
   "source": []
  },
  {
   "cell_type": "code",
   "execution_count": 73,
   "metadata": {},
   "outputs": [
    {
     "name": "stdout",
     "output_type": "stream",
     "text": [
      "OK\n",
      "OK\n",
      "OK\n",
      "OK\n",
      "OK\n",
      "OK\n"
     ]
    }
   ],
   "source": [
    "A0 = np.array([[1, 2, 3], [4, 5, 6], [7, 8, 10]])\n",
    "A1 = np.array([[ 4,3],[-5,9]])\n",
    "A2 = np.array([[4, 3, 2], [-2, 2, 3], [3, -5, 2]])\n",
    "A3 = np.array([[20, 10], [17, 22]])\n",
    "A4 = np.array([[8, 3, -2], [-4, 7, 5], [3, 4, -12]])\n",
    "A5 = np.array([[4, 3, -5], [-2, -4, 5], [8, 8, 0]])\n",
    "\n",
    "def testinversa(test_suite):\n",
    "    for test_case in test_suite:\n",
    "        A_inversa = inversa(test_case)\n",
    "        A_inversa_posta = np.linalg.inv(test_case)\n",
    "        if (np.allclose(A_inversa_posta, A_inversa)):\n",
    "            print(\"OK\")\n",
    "        else:\n",
    "            print(\"ERROR\")\n",
    "            print (A_inversa)\n",
    "            print (A_inversa_posta)\n",
    "\n",
    "A_test_suite = [A0,A1,A2,A3,A4,A5]\n",
    "testinversa(A_test_suite)"
   ]
  }
 ],
 "metadata": {
  "kernelspec": {
   "display_name": "Python 3",
   "language": "python",
   "name": "python3"
  },
  "language_info": {
   "codemirror_mode": {
    "name": "ipython",
    "version": 3
   },
   "file_extension": ".py",
   "mimetype": "text/x-python",
   "name": "python",
   "nbconvert_exporter": "python",
   "pygments_lexer": "ipython3",
   "version": "3.11.5"
  },
  "orig_nbformat": 4
 },
 "nbformat": 4,
 "nbformat_minor": 2
}
