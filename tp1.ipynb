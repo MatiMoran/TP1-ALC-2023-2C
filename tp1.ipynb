{
 "cells": [
  {
   "cell_type": "markdown",
   "metadata": {},
   "source": [
    "Empezamos importando librerias"
   ]
  },
  {
   "cell_type": "code",
   "execution_count": 89,
   "metadata": {},
   "outputs": [],
   "source": [
    "import numpy as np"
   ]
  },
  {
   "cell_type": "markdown",
   "metadata": {},
   "source": []
  },
  {
   "cell_type": "code",
   "execution_count": 90,
   "metadata": {},
   "outputs": [],
   "source": [
    "def descompLU_recursive(A):\n",
    "    #get dimensions of A\n",
    "    n = A.shape[0]\n",
    "\n",
    "    u_11 = A[0,0]\n",
    "    if (u_11 == 0): # whe cannot pivot anymore, the A matrix cannot be descomposed\n",
    "        return (None, None)\n",
    "\n",
    "    if (n == 1):\n",
    "        return (np.array([[1]]), np.array([[u_11]]))\n",
    "    \n",
    "\n",
    "    u_12 = A[0, 1:]\n",
    "\n",
    "    l_21 = A[1:, 0] / u_11\n",
    "\n",
    "    recursive_A_matrix_to_solve = A[1:, 1:] - l_21.reshape(n - 1,1) * u_12\n",
    "\n",
    "    l_22, u_22 = descompLU_recursive(recursive_A_matrix_to_solve)\n",
    "    if (l_22 is None or u_22 is None): # returns canonical and original A\n",
    "        return (None, None)\n",
    "    \n",
    "\n",
    "    l_top_row = np.array([1] + [0] * (n - 1))\n",
    "    #create a new matrix using the l_22 matrix with dimensions of (n - 1, n - 1) and the l_21 matrix with dimensions of (n - 1, 1)\n",
    "    l = np.hstack((np.expand_dims(l_21, axis=1), l_22))\n",
    "    l = np.vstack((l_top_row, l))\n",
    "\n",
    "    #create a new matrix using the l matrix with dimensions of (n - 1, n) and the l_top_row matrix with dimensions of (1, n)\n",
    "    u_left_row = np.array([u_11] + [0] * (n - 1))\n",
    "    #create a new matrix using the u_22 matrix with dimensions of (n - 1, n - 1) and the u_12 matrix with dimensions of (1, n - 1)\n",
    "    u = np.vstack((u_12, u_22))\n",
    "    #create a new matrix using the u matrix with dimensions of (n, n - 1) and the u_left_row matrix with dimensions of (n, 1)\n",
    "    u = np.hstack((np.expand_dims(u_left_row, axis=1), u))\n",
    "\n",
    "    return (l, u)\n",
    "\n",
    "def descompLU(A):\n",
    "    l, u = descompLU_recursive(A)\n",
    "    if (l is None or u is None): # returns canonical and original A\n",
    "        return (np.eye(A.shape[0]), A)\n",
    "    return (l, u)\n"
   ]
  },
  {
   "cell_type": "markdown",
   "metadata": {},
   "source": []
  },
  {
   "cell_type": "code",
   "execution_count": 91,
   "metadata": {},
   "outputs": [
    {
     "name": "stdout",
     "output_type": "stream",
     "text": [
      "[[1. 0. 0.]\n",
      " [4. 1. 0.]\n",
      " [7. 2. 1.]]\n",
      "[[ 1.  2.  3.]\n",
      " [ 0. -3. -6.]\n",
      " [ 0.  0.  1.]]\n"
     ]
    }
   ],
   "source": [
    "matrix = np.array([[1, 2, 3], [4, 5, 6], [7, 8, 10]])\n",
    "\n",
    "l, u = descompLU(matrix)\n",
    "\n",
    "print(l)\n",
    "print(u)"
   ]
  }
 ],
 "metadata": {
  "kernelspec": {
   "display_name": "Python 3",
   "language": "python",
   "name": "python3"
  },
  "language_info": {
   "codemirror_mode": {
    "name": "ipython",
    "version": 3
   },
   "file_extension": ".py",
   "mimetype": "text/x-python",
   "name": "python",
   "nbconvert_exporter": "python",
   "pygments_lexer": "ipython3",
   "version": "3.11.5"
  },
  "orig_nbformat": 4
 },
 "nbformat": 4,
 "nbformat_minor": 2
}
