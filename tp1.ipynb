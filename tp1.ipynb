{
 "cells": [
  {
   "cell_type": "markdown",
   "metadata": {},
   "source": [
    "Empezamos importando librerias"
   ]
  },
  {
   "cell_type": "code",
   "execution_count": 50,
   "metadata": {
    "ExecuteTime": {
     "end_time": "2023-09-21T19:56:20.678276300Z",
     "start_time": "2023-09-21T19:56:20.618980600Z"
    }
   },
   "outputs": [],
   "source": [
    "import numpy as np\n",
    "import scipy as sp\n",
    "import matplotlib.pyplot as plt"
   ]
  },
  {
   "cell_type": "markdown",
   "metadata": {},
   "source": []
  },
  {
   "cell_type": "code",
   "execution_count": 51,
   "metadata": {
    "ExecuteTime": {
     "end_time": "2023-09-21T19:56:20.687952200Z",
     "start_time": "2023-09-21T19:56:20.629166500Z"
    }
   },
   "outputs": [],
   "source": [
    "#EJERCICIO 1\n",
    "\n",
    "def descompLU_recursive(A):\n",
    "    \"\"\"Solve (recursively) the LU decomposition of A22 − L21U12.\n",
    "    :param A: numpy.matrix, real square matrix.\n",
    "    :returns (l,u): (numpy.matrix, numpy.matrix), l lower triangular matrix and u upper triangular matrix.\"\"\"\n",
    "    #get dimensions of A\n",
    "    n = A.shape[0]\n",
    "\n",
    "    u_11 = A[0,0]\n",
    "    if u_11 == 0: # whe cannot pivot anymore, the A matrix cannot be descomposed\n",
    "        return (None, None)\n",
    "\n",
    "    if n == 1:\n",
    "        return np.array([[1]]), np.array([[u_11]])\n",
    "    \n",
    "\n",
    "    u_12 = A[0, 1:]\n",
    "\n",
    "    l_21 = A[1:, 0] / u_11\n",
    "\n",
    "    recursive_A_matrix_to_solve = A[1:, 1:] - l_21.reshape(n - 1,1) * u_12\n",
    "\n",
    "    l_22, u_22 = descompLU_recursive(recursive_A_matrix_to_solve)\n",
    "    if l_22 is None or u_22 is None: # returns canonical and original A\n",
    "        return None, None\n",
    "    \n",
    "\n",
    "    l_top_row = np.array([1] + [0] * (n - 1))\n",
    "    #create a new matrix using the l_22 matrix with dimensions of (n - 1, n - 1) and the l_21 matrix with dimensions of (n - 1, 1)\n",
    "    l = np.hstack((np.expand_dims(l_21, axis=1), l_22))\n",
    "    l = np.vstack((l_top_row, l))\n",
    "\n",
    "    #create a new matrix using the l matrix with dimensions of (n - 1, n) and the l_top_row matrix with dimensions of (1, n)\n",
    "    u_left_row = np.array([u_11] + [0] * (n - 1))\n",
    "    #create a new matrix using the u_22 matrix with dimensions of (n - 1, n - 1) and the u_12 matrix with dimensions of (1, n - 1)\n",
    "    u = np.vstack((u_12, u_22))\n",
    "    #create a new matrix using the u matrix with dimensions of (n, n - 1) and the u_left_row matrix with dimensions of (n, 1)\n",
    "    u = np.hstack((np.expand_dims(u_left_row, axis=1), u))\n",
    "\n",
    "    return l, u\n",
    "\n",
    "def descompLU(A):\n",
    "    \"\"\"Performs LU factorization of a matrix A.\n",
    "    :param A: numpy.matrix, real square matrix.\n",
    "    :returns (l,u): (numpy.matrix, numpy.matrix), l lower triangular matrix and u upper triangular matrix.\"\"\"\n",
    "    l, u = descompLU_recursive(A)\n",
    "    if l is None or u is None: # returns canonical and original A\n",
    "        return np.eye(A.shape[0]), A\n",
    "    return l, u\n"
   ]
  },
  {
   "cell_type": "markdown",
   "metadata": {},
   "source": []
  },
  {
   "cell_type": "code",
   "execution_count": null,
   "metadata": {
    "is_executing": true
   },
   "outputs": [],
   "source": [
    "#EJERCICIO 2\n",
    "def descompPLU(A):\n",
    "    \"\"\"Performs the PA=LU decomposition of a matrix.\n",
    "    :param A: numpy.matrix, matrix A ∈ Rn×n.\n",
    "    :returns (P, L, U): ( numpy.matrix, numpy.matrix, numpy.matrix), matrix p corresponding to pivoting and the matrices L, U corresponding to factorization\"\"\"\n",
    "    n = A.shape[0]\n",
    "    \n",
    "    # Find the indices of the diagonal elements that are zero\n",
    "    diagonal_elements = A.diagonal()\n",
    "    zero_diagonal_indices = np.where(diagonal_elements == 0)[0]\n",
    "    \n",
    "    # Creates P, which is initially the identity matrix\n",
    "    P = np.identity(n)\n",
    "    \n",
    "    #Find a row that does not have zeros in position i and swap them\n",
    "    for i in zero_diagonal_indices:\n",
    "        for j in range(i + 1, n):\n",
    "            if A[j, i] != 0:\n",
    "                P[[i, j]] = P[[j, i]]\n",
    "                break\n",
    "    \n",
    "    \n",
    "    pivot_A = np.dot(P, A)\n",
    "    L, U = descompLU(pivot_A)  \n",
    "    return P, L, U"
   ]
  },
  {
   "cell_type": "code",
   "execution_count": 52,
   "outputs": [
    {
     "name": "stdout",
     "output_type": "stream",
     "text": [
      "OK\n",
      "OK\n",
      "OK\n",
      "OK\n",
      "OK\n",
      "OK\n"
     ]
    }
   ],
   "source": [
    "A0 = np.array([[1, 2, 3], [4, 5, 6], [7, 8, 10]])\n",
    "A1 = np.array([[ 4,3],[-5,9]])\n",
    "A2 = np.array([[4, 3, 2], [-2, 2, 3], [3, -5, 2]])\n",
    "A3 = np.array([[20, 10], [17, 22]])\n",
    "A4 = np.array([[8, 3, -2], [-4, 7, 5], [3, 4, -12]])\n",
    "A5 = np.array([[4, 3, -5], [-2, -4, 5], [8, 8, 0]])\n",
    "\n",
    "def test_descompLU(test_suite):\n",
    "    for test_case in test_suite:\n",
    "        L1,U1 = descompLU(test_case)\n",
    "        if (np.allclose(test_case, L1@U1)):\n",
    "            print(\"OK\")\n",
    "        else:\n",
    "            print(\"ERROR\")\n",
    "            print(L1)\n",
    "            print(U1)\n",
    "\n",
    "A_test_suite = [A0,A1,A2,A3,A4,A5]\n",
    "test_descompLU(A_test_suite)"
   ],
   "metadata": {
    "collapsed": false,
    "ExecuteTime": {
     "start_time": "2023-09-21T19:56:20.635411400Z"
    }
   }
  },
  {
   "cell_type": "markdown",
   "source": [],
   "metadata": {
    "collapsed": false
   }
  },
  {
   "cell_type": "code",
   "execution_count": 53,
   "outputs": [],
   "source": [
    "#EJERCICIO 3\n",
    "def resolverLU(A, b):\n",
    "    \"\"\"Returns the solution x of the system Ax = b.\n",
    "    :param A: numpy.matrix, real square matrix with size = n x n.\n",
    "    :param b: numpy.array, real array with size = n x 1.\n",
    "    :return: vector set of solutions.\"\"\"\n",
    "    l, u = descompLU(A)\n",
    "    x = sp.linalg.solve_triangular(l, b, lower=True)\n",
    "    return sp.linalg.solve_triangular(u, x)"
   ],
   "metadata": {
    "collapsed": false,
    "ExecuteTime": {
     "start_time": "2023-09-21T19:56:20.644831500Z"
    }
   }
  },
  {
   "cell_type": "markdown",
   "source": [],
   "metadata": {
    "collapsed": false
   }
  },
  {
   "cell_type": "code",
   "execution_count": null,
   "metadata": {
    "is_executing": true
   },
   "outputs": [],
   "source": [
    "#EJERCICIO 4\n",
    "np.random.seed(13121989)\n",
    "\n",
    "matrix = np.random.uniform(-1,1,(10,10))\n",
    "vector = np.random.uniform(-1,1,(10,1))\n",
    "\n",
    "def norma_2(vector):\n",
    "  \"\"\"Perform L-2 norm of a vector.\n",
    "  :param vector: numpy.array, vector ∈ Rn.\n",
    "  :return norma: float, root of the sum of the components of the vector squared.\"\"\"\n",
    "  norma = np.linalg.norm(vector)\n",
    "  return norma\n",
    "\n",
    "def relative_error(A, b, sol):\n",
    "  \"\"\"Calculate the error relative in norm-2.\n",
    "  :param A: numpy.matriz, matrix ∈ Rnxn.\n",
    "  :param b: numpy.array, vector ∈ Rnx1.\n",
    "  :param sol: numpy.array, A@sol=b.\n",
    "  :return error: float, ∥Ax−b∥2 / ∥b∥2\"\"\"\n",
    "  vector_1= np.dot(A,sol) - b\n",
    "  norma_vector_1 = norma_2(vector_1)\n",
    "  norma_b = norma_2(b)\n",
    "\n",
    "  error = norma_vector_1 / norma_b\n",
    "\n",
    "  return  error\n",
    "\n",
    "\n",
    "def test_resolver_LU(matrix, vector):\n",
    "    \"\"\"Test that the result obtained with resolLU is similar to that obtained with np.linalg.solve.\"\"\"\n",
    "    calculated_sol = resolverLU(matrix, vector)\n",
    "    real_sol = np.linalg.solve(matrix, vector)\n",
    "\n",
    "    assert np.allclose(calculated_sol, real_sol) is True\n",
    "\n",
    "    error = relative_error(matrix, vector, calculated_sol)\n",
    "\n",
    "    print(\"El error relativo es: \", error)\n",
    "\n",
    "test_resolver_LU(matrix, vector)"
   ]
  },
  {
   "cell_type": "code",
   "execution_count": 55,
   "outputs": [],
   "source": [
    "#EJERCICIO 5\n",
    "def inversa(A):\n",
    "    \"\"\"Calculate the inverse of a matrix.\n",
    "    :param A: numpy.matrix, real square matrix ∈ Rnxn.\n",
    "    :return: A^(-1).\"\"\"\n",
    "    dimension = A.shape[0]\n",
    "    canonical_matrix = np.eye(dimension)\n",
    "    ret = np.zeros((dimension, dimension))\n",
    "\n",
    "    for i in range(dimension):\n",
    "        inverse_canonical_row = resolverLU(A, canonical_matrix[i])\n",
    "        ret[:, i] = inverse_canonical_row\n",
    "\n",
    "    return ret"
   ],
   "metadata": {
    "collapsed": false,
    "ExecuteTime": {
     "start_time": "2023-09-21T19:56:20.664278800Z"
    }
   }
  },
  {
   "cell_type": "code",
   "execution_count": null,
   "metadata": {
    "is_executing": true
   },
   "outputs": [],
   "source": [
    "#EJERCICIO 6\n",
    "np.random.seed(13121989)\n",
    "\n",
    "matrix = np.random.uniform(-1,1,(10,10))\n",
    "\n",
    "def error_frobenius(A, A_inversa, I):\n",
    " \"\"\"Calculate the error in Frobenius norm.\n",
    "    :param A: numpy.matrix, matrix ∈ Rnxn.\n",
    "    :param A_inversa: numpy.matrix, matrix ∈ Rnxn.\n",
    "    :param I: numpy.matrix, matrix ∈ Rnxn.\n",
    "    :return norma:  ∥A^(−1) * A − I∥F \"\"\"\n",
    "  \n",
    " matrix_A = np.dot(A_inversa, A) - I\n",
    "\n",
    " matrix_t = np.transpose(matrix_A)\n",
    "  \n",
    "\n",
    " trace = np.trace(np.dot(matrix_t, matrix_A))\n",
    "\n",
    " norma = np.sqrt(trace) \n",
    " return norma\n",
    "\n",
    "\n",
    "def test_inversa(A):\n",
    "    \"\"\"Test that the result obtained with inversa() is similar to that obtained with np.linalg.inv().\"\"\"\n",
    "    \n",
    "    n = A.shape[0]\n",
    "    matrix_identity = np.identity(n)\n",
    "\n",
    "    inversa_A = inversa(A)\n",
    "    inversa_calculada = np.linalg.inv(A)\n",
    "   \n",
    "    assert np.allclose(inversa_A, inversa_calculada) is True\n",
    "\n",
    "    error = error_frobenius(A, inversa_A, matrix_identity)\n",
    "\n",
    "    print(\"El error Frobenius es: \",  error)\n",
    "    \n",
    "\n",
    "test_inversa(matrix)\n",
    "\n"
   ]
  },
  {
   "cell_type": "code",
   "execution_count": null,
   "outputs": [],
   "source": [
    "#EJERCICIO 7\n",
    "iter = range(10,200)\n",
    "v1 = np.array([])\n",
    "v2 = np.array([])\n",
    "\n",
    "for i in iter:\n",
    "    v1_dimensional_benchmark_results = 0\n",
    "    v2_dimensional_benchmark_results = 0\n",
    "\n",
    "    for k in range(10):\n",
    "        A = np.random.uniform(low=-1, high=1.0, size=(i,i))\n",
    "        b = np.random.uniform(low=-1, high=1.0, size=(i,))\n",
    "        x1 = resolverLU(A, b)\n",
    "        x1_relative_error = np.log(np.linalg.norm(A@x1 - b) / np.linalg.norm(b))\n",
    "        x2 = inversa(A)@b\n",
    "        x2_relative_error = np.log(np.linalg.norm(A@x2 - b) / np.linalg.norm(b))\n",
    "        v1_dimensional_benchmark_results += x1_relative_error\n",
    "        v2_dimensional_benchmark_results += x2_relative_error\n",
    "    \n",
    "        \n",
    "    v1 = np.append(v1, v1_dimensional_benchmark_results)\n",
    "    v2 = np.append(v2, v2_dimensional_benchmark_results)"
   ],
   "metadata": {
    "collapsed": false,
    "is_executing": true,
    "ExecuteTime": {
     "start_time": "2023-09-21T19:56:20.683952200Z"
    }
   }
  },
  {
   "cell_type": "code",
   "execution_count": null,
   "outputs": [],
   "source": [
    "n = np.arange(10, len (v1))\n",
    "plt.plot(n,v1[10:], label='x = Inversa(A)*b')\n",
    "plt.plot(n,v2[10:], label='Resolver (LU)x=b')\n",
    "plt.title('Errores relativos ||Ax-b||/||b||')\n",
    "plt.xlabel('Tamaño de la Matriz (n)')\n",
    "plt.ylabel('Errores relativos de las soluciones.')\n",
    "plt.legend()\n",
    "plt.show()"
   ],
   "metadata": {
    "collapsed": false,
    "is_executing": true
   }
  },
  {
   "cell_type": "code",
   "execution_count": null,
   "outputs": [],
   "source": [
    "#EJERCICIO 8\n",
    "iter = range(10,200)\n",
    "v1 = np.array([])\n",
    "v2 = np.array([])\n",
    "\n",
    "for i in iter:\n",
    "    v1_dimensional_benchmark_results = 0\n",
    "    v2_dimensional_benchmark_results = 0\n",
    "\n",
    "    for k in range(10):\n",
    "        A = np.random.uniform(low=-1, high=1.0, size=(i,i))\n",
    "        b = np.random.uniform(low=-1, high=1.0, size=(i,))\n",
    "        x1 = np.linalg.solve(A, b)\n",
    "        x1_relative_error = np.log(np.linalg.norm(A@x1 - b) / np.linalg.norm(b))\n",
    "        x2 = np.linalg.inv(A)@b\n",
    "        x2_relative_error = np.log(np.linalg.norm(A@x2 - b) / np.linalg.norm(b))\n",
    "        v1_dimensional_benchmark_results += x1_relative_error\n",
    "        v2_dimensional_benchmark_results += x2_relative_error\n",
    "    \n",
    "    if(i % 10 == 0):\n",
    "        print(\"Iteration \" + str(i))\n",
    "        \n",
    "    v1 = np.append(v1, v1_dimensional_benchmark_results)\n",
    "    v2 = np.append(v2, v2_dimensional_benchmark_results)"
   ],
   "metadata": {
    "collapsed": false,
    "is_executing": true
   }
  },
  {
   "cell_type": "code",
   "execution_count": null,
   "outputs": [],
   "source": [
    "n = np.arange(10, len (v1))\n",
    "plt.plot(n,v1[10:], label='x = Inversa(A)*b')\n",
    "plt.plot(n,v2[10:], label='Resolver (LU)x=b')\n",
    "plt.title('Errores relativos ||xi-x||/||x||')\n",
    "plt.xlabel('Tamaño de la Matriz (n)')\n",
    "plt.ylabel('Errores relativos de las soluciones.')\n",
    "plt.legend()\n",
    "plt.show()"
   ],
   "metadata": {
    "collapsed": false,
    "is_executing": true
   }
  },
  {
   "cell_type": "code",
   "execution_count": null,
   "outputs": [],
   "source": [
    "#EJERCICIO 9\n",
    "iter = range(10,200)\n",
    "v1 = np.array([])\n",
    "v2 = np.array([])\n",
    "\n",
    "for i in iter:\n",
    "    v1_dimensional_benchmark_results = 0\n",
    "    v2_dimensional_benchmark_results = 0\n",
    "\n",
    "    for k in range(10):\n",
    "        A = np.random.uniform(low=-1, high=1.0, size=(i,i))\n",
    "        b = np.random.uniform(low=-1, high=1.0, size=(i,))\n",
    "        x1_i = resolverLU(A, b)\n",
    "        x1 =  np.linalg.solve(A, b)\n",
    "        x1_relative_error = np.log(np.linalg.norm(x1_i - x1) / np.linalg.norm(x1))\n",
    "        x2_i = inversa(A)@b\n",
    "        x2 =  np.linalg.inv(A)@b\n",
    "        x2_relative_error = np.log(np.linalg.norm(x2_i - x2) / np.linalg.norm(x2))\n",
    "        v1_dimensional_benchmark_results += x1_relative_error\n",
    "        v2_dimensional_benchmark_results += x2_relative_error\n",
    "    \n",
    "    if(i % 10 == 0):\n",
    "        print(\"Iteration \" + str(i))\n",
    "        \n",
    "    v1 = np.append(v1, v1_dimensional_benchmark_results)\n",
    "    v2 = np.append(v2, v2_dimensional_benchmark_results)"
   ],
   "metadata": {
    "collapsed": false,
    "is_executing": true
   }
  },
  {
   "cell_type": "code",
   "execution_count": null,
   "outputs": [],
   "source": [
    "n = np.arange(10, len (v1))\n",
    "plt.plot(n,v1[10:], label='x = Inversa(A)*b')\n",
    "plt.plot(n,v2[10:], label='Resolver (LU)x=b')\n",
    "plt.title('Errores relativos ||Ax-b||/||b||')\n",
    "plt.xlabel('Tamaño de la Matriz (n)')\n",
    "plt.ylabel('Errores relativos de las soluciones.')\n",
    "plt.legend()\n",
    "plt.show()"
   ],
   "metadata": {
    "collapsed": false,
    "is_executing": true
   }
  },
  {
   "cell_type": "code",
   "execution_count": null,
   "outputs": [],
   "source": [
    "import numpy as np\n",
    "\n",
    "def hilbert_matrix(n):\n",
    "    \"\"\"Generates a Hilbert matrix.\n",
    "    :param n: int, matrix dimension.\n",
    "    :return H: numpy.matrix, Hilbert matrix.\"\"\"\n",
    "    # Inicializa una matriz de ceros de tamaño n x n\n",
    "    H = np.zeros((n, n))\n",
    "    \n",
    "    # Rellena la matriz de Hilbert con los valores adecuados\n",
    "    for i in range(1, n + 1):\n",
    "        for j in range(1, n + 1):\n",
    "            H[i - 1, j - 1] = 1 / (i + j - 1)\n",
    "    \n",
    "    return H\n",
    "\n"
   ],
   "metadata": {
    "collapsed": false,
    "is_executing": true
   }
  },
  {
   "cell_type": "code",
   "execution_count": null,
   "outputs": [],
   "source": [
    "#EJERCICIO 10\n",
    "v1 = np.array([])\n",
    "for n in range(2, 21):\n",
    "    A = hilbert_matrix(n)\n",
    "    num_cond =  np.linalg.cond(A, p=2)\n",
    "    v1 = np.append(v1,num_cond)\n",
    "    "
   ],
   "metadata": {
    "collapsed": false,
    "is_executing": true
   }
  },
  {
   "cell_type": "code",
   "execution_count": null,
   "outputs": [],
   "source": [
    "# Crear el gráfico\n",
    "plt.figure(figsize=(10, 6))\n",
    "plt.plot(range(2, 21), v1, marker='o', linestyle='-')\n",
    "plt.title('Variación del Número de Condición (Norma 2) de Matrices Aleatorias')\n",
    "plt.xlabel('Tamaño de la Matriz (n)')\n",
    "plt.ylabel('Número de Condición (cond2)')\n",
    "plt.show()"
   ],
   "metadata": {
    "collapsed": false,
    "is_executing": true
   }
  },
  {
   "cell_type": "markdown",
   "source": [],
   "metadata": {
    "collapsed": false
   }
  }
 ],
 "metadata": {
  "kernelspec": {
   "display_name": "Python 3",
   "language": "python",
   "name": "python3"
  },
  "language_info": {
   "codemirror_mode": {
    "name": "ipython",
    "version": 3
   },
   "file_extension": ".py",
   "mimetype": "text/x-python",
   "name": "python",
   "nbconvert_exporter": "python",
   "pygments_lexer": "ipython3",
   "version": "3.11.5"
  },
  "orig_nbformat": 4
 },
 "nbformat": 4,
 "nbformat_minor": 2
}
